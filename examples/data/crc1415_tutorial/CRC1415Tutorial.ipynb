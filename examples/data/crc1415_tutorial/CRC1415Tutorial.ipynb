{
 "cells": [
  {
   "cell_type": "markdown",
   "id": "a963be1a",
   "metadata": {},
   "source": [
    "# Using CRC1415 corporate colors in Matplotlib plots\n",
    "### This notebook aims to show how to use the CRC colors in python, with the help of external script named \"CRC1415Colors.py\"\n",
    "### Additionaly the usage of style sheets in matplotlib using external file \"styleCRC1415.mplstyle\""
   ]
  },
  {
   "cell_type": "code",
   "execution_count": null,
   "id": "e3ca2d3c",
   "metadata": {},
   "outputs": [],
   "source": [
    "#import standard modules\n",
    "import numpy as np                # for numerical calculations\n",
    "import matplotlib.pyplot as plt   # for plotting\n",
    "import CRC1415Colors as IC        # external script for CRC1415 colors"
   ]
  },
  {
   "cell_type": "markdown",
   "id": "10257c17-fdbb-4885-8e35-17afab0d29e7",
   "metadata": {},
   "source": [
    "## Let's try the standard appearance of plots"
   ]
  },
  {
   "cell_type": "code",
   "execution_count": null,
   "id": "4597f9d2-329d-4d59-80d6-af1de6462772",
   "metadata": {},
   "outputs": [],
   "source": [
    "# sample data:\n",
    "x1 = np.linspace(0, 1, 10)\n",
    "x2 = np.linspace(0, 1, 10)\n",
    "\n",
    "yerr = np.random.rand(len(x2)) / 10 #some random errors\n",
    "\n",
    "y1 = 0.5 * x1**2\n",
    "y2 = np.sqrt(x2)\n",
    "y3 = 0.6 * x2\n",
    "\n",
    "# plotting with standard behavior\n",
    "fig = plt.figure(figsize=(11.69,8.27), dpi=50) # A4 Landscape  - maybe also: facecolor=(0.975, 0.975, 0.975),\n",
    "\n",
    "axes = plt.axes()\n",
    "axes.set_position([0.1, 0.1, 0.85, 0.85]) # [left, bottom, width, height]\n",
    "\n",
    "axes.set_ylabel(\"$y$-label [m²]\")\n",
    "axes.set_xlabel(\"$x$-label [s]\")\n",
    "\n",
    "axes.set_xticks([0.1, 0.3, 0.5, 0.7, 0.9], minor=True)\n",
    "axes.set_yticks([0.1, 0.3, 0.5, 0.7, 0.9], minor=False)\n",
    "axes.plot(x2, y2, marker = \"X\", label = \"CRC1415A00\")\n",
    "axes.plot(x2, y2*0.80, marker = \"s\", label = \"CRC1415B00\")\n",
    "axes.plot(x1, y1*1.5, marker = \"^\", linestyle = \"dashed\", label = \"CRC1415C00\")\n",
    "axes.errorbar(x2, y3*0.5, yerr = yerr, marker = \"o\", label = \"CRC1415Z00\", linestyle = \"dotted\" )\n",
    "axes.legend()"
   ]
  },
  {
   "cell_type": "code",
   "execution_count": null,
   "id": "b9b84370-fc8b-473d-b5b4-4952fe37a341",
   "metadata": {},
   "outputs": [],
   "source": []
  },
  {
   "cell_type": "markdown",
   "id": "90db2f58",
   "metadata": {},
   "source": [
    "## Style sheet\n",
    "- The style sheet can be used to set a standart style for plots.\n",
    "- see: https://matplotlib.org/stable/tutorials/introductory/customizing.html\n",
    "- Just edit the sheet to fit your needs. \n",
    "- Warning: In this version Latex has to be installed. (Otherwise just delete first line in styleCRC1415.mplstyle)"
   ]
  },
  {
   "cell_type": "code",
   "execution_count": null,
   "id": "6b8651f1",
   "metadata": {},
   "outputs": [],
   "source": [
    "plt.style.use('styleCRC1415.mplstyle') #import style sheet"
   ]
  },
  {
   "cell_type": "markdown",
   "id": "0dcfaa0b-e3f3-4775-aeb3-0cf7f6788585",
   "metadata": {},
   "source": [
    "In order to use the CRC1415 Colors just use the helper functions in CRC1415Colors.py:\n",
    "- ShowColors() : Return list of available colors\n",
    "- CRCcolor(color: str): returns tuple of (R,G,B) values rescaled to (0, 1) needed for mpl\n",
    "- ReturnCRCDict(): returns original dict with colors and RGB tuples"
   ]
  },
  {
   "cell_type": "code",
   "execution_count": null,
   "id": "698d5e32-7e6e-4505-9eb3-d46c023cf078",
   "metadata": {},
   "outputs": [],
   "source": [
    "IC.ShowColors()"
   ]
  },
  {
   "cell_type": "code",
   "execution_count": null,
   "id": "40aa880c-d2cf-46f4-ba0a-f3a26a4bdb38",
   "metadata": {},
   "outputs": [],
   "source": [
    "IC.ReturnCRCDict()"
   ]
  },
  {
   "cell_type": "code",
   "execution_count": null,
   "id": "d9c0c0e1-cd18-4c27-bd32-e2e19a331163",
   "metadata": {},
   "outputs": [],
   "source": [
    "print('\\n'.join([f\"{color}: {IC.CRCcolor(color)}\" for color in IC.ShowColors()]))"
   ]
  },
  {
   "cell_type": "markdown",
   "id": "9adc8c07",
   "metadata": {},
   "source": [
    "### Let's make the plot again with nicer appearance"
   ]
  },
  {
   "cell_type": "code",
   "execution_count": null,
   "id": "87424b28",
   "metadata": {},
   "outputs": [],
   "source": [
    "# sample data and function defintions:\n",
    "x1 = np.linspace(0, 1, 10)\n",
    "x2 = np.linspace(0, 1, 10)\n",
    "\n",
    "yerr = np.random.rand(len(x2)) / 10 #some random errors\n",
    "\n",
    "y1 = 0.5 * x1**2\n",
    "y2 = np.sqrt(x2)\n",
    "y3 = 0.6 * x2\n",
    "\n",
    "# plotting\n",
    "# see https://stackoverflow.com/questions/43248336/matplotlib-tick-labels-are-inconsist-with-font-setting-latex-text-example\n",
    "plt.rc('text.latex', preamble=r'\\usepackage[cm]{sfmath}') # hack for better axis labels\n",
    "#plt.rc('text.latex', preamble=r'\\usepackage{cmbright}')\n",
    "\n",
    "fig = plt.figure(figsize=(11.69,8.27), dpi=50) # A4 Landscape  - maybe also: facecolor=(0.975, 0.975, 0.975),\n",
    "\n",
    "axes = plt.axes()\n",
    "axes.set_position([0.1, 0.1, 0.85, 0.85]) # [left, bottom, width, height]\n",
    "\n",
    "axes.set_ylabel(\"$y$-label [m²]\")\n",
    "axes.set_xlabel(\"$x$-label [s]\")\n",
    "\n",
    "axes.set_xticks([0.1, 0.3, 0.5, 0.7, 0.9], minor=True)\n",
    "axes.set_yticks([0.1, 0.3, 0.5, 0.7, 0.9], minor=False)\n",
    "\n",
    "axes.plot(x2, y2, marker = \"X\", color = IC.CRCcolor(\"CRC1415A00\"), label = \"CRC1415A00\")\n",
    "\n",
    "axes.plot(x2, y2*0.80, marker = \"s\", color = IC.CRCcolor(\"CRC1415B00\"), label = \"CRC1415B00\")\n",
    "\n",
    "axes.plot(x1, y1*1.5, marker = \"^\", color = IC.CRCcolor(\"CRC1415C00\"), linestyle = \"dashed\", label = \"CRC1415C00\")\n",
    "\n",
    "axes.errorbar(x2, y3*0.5, yerr = yerr, marker = \"o\", color = IC.CRCcolor(\"CRC1415Z00\"), label = \"CRC1415Z00\", linestyle = \"dotted\", ecolor = IC.CRCcolor(\"black\"), capthick=2, \n",
    "             elinewidth=2)\n",
    "\n",
    "axes.legend()\n",
    "\n",
    "# saving to files\n",
    "# save figure as png and pdf\n",
    "fig.savefig(\"plot_StyleCRC1415.png\",  dpi = 100) #300)\n",
    "fig.savefig(\"plot_StyleCRC1415.pdf\") #, bbox_inches='tight') # tight will crop the image and is not recommended for publications due to alignment"
   ]
  },
  {
   "cell_type": "markdown",
   "id": "20b1f09b",
   "metadata": {},
   "source": [
    "### Plot all CRC1415 colors"
   ]
  },
  {
   "cell_type": "code",
   "execution_count": null,
   "id": "cae5d3e2",
   "metadata": {},
   "outputs": [],
   "source": [
    "fig1 = plt.figure()\n",
    "ax1 = fig1.add_subplot(111)\n",
    "\n",
    "#turn off ticks\n",
    "ax1.set_yticks([])\n",
    "ax1.set_xticks([])\n",
    "\n",
    "x = np.linspace(0,1)\n",
    "# plot all IPF Colors\n",
    "for i, color in enumerate(reversed(list(IC.ReturnCRCDict()))):\n",
    "    ax1.plot(x,x+float(12*i), color = IC.CRCcolor(str(color)), lw = 12)"
   ]
  },
  {
   "cell_type": "code",
   "execution_count": null,
   "id": "e3d19318",
   "metadata": {},
   "outputs": [],
   "source": [
    "fig1.savefig(\"color_showcase.png\", dpi = 300)"
   ]
  },
  {
   "cell_type": "markdown",
   "id": "e27f848e-8e81-46c4-a9ce-ccaa0125fa72",
   "metadata": {},
   "source": [
    "### Cycle through all CRC Colors"
   ]
  },
  {
   "cell_type": "code",
   "execution_count": null,
   "id": "09a274b0-fe09-4021-86bf-69316c566528",
   "metadata": {},
   "outputs": [],
   "source": [
    "fig1 = plt.figure(figsize=(11.69,8.27), facecolor=(0.975, 0.975, 0.975), dpi=50) # A4 Landscape\n",
    "\n",
    "axes = plt.axes()\n",
    "axes.set_position([0.1, 0.1, 0.85, 0.85]) # [left, bottom, width, height]\n",
    "\n",
    "\n",
    "x = np.array(range(10))\n",
    "\n",
    "for i in range(32):\n",
    "    plt.plot(x, i+x)"
   ]
  },
  {
   "cell_type": "code",
   "execution_count": null,
   "id": "29931eb1",
   "metadata": {},
   "outputs": [],
   "source": [
    "# END OF COLOR TUTORIAL"
   ]
  },
  {
   "cell_type": "markdown",
   "id": "3406ca1a-c4a8-4371-a554-ce2645b5e693",
   "metadata": {},
   "source": [
    "### Practical exercise: Python program that reads data from a CSV file, fits the data using the function $y_{\\textrm{fit}}(x) = a \\cdot \\sin(b \\cdot x + c)$, and then plots the result.\n",
    "Note: the data in the CSV file is generated by  \n",
    "``` python\n",
    "x = np.linspace(0.0, 2*np.pi, 100)\n",
    "noise = np.random.normal(0, 0.01, size=x.shape)  # Add random noise (Gaussian noise) Mean = 0, Standard Deviation = 0.1\n",
    "y = 0.25*np.sin(3*x + 1/4) + noise\n",
    "\n",
    "# Create a DataFrame from the x, y pairs\n",
    "data = pd.DataFrame({'x': x, 'y': y})\n",
    "data.to_csv('sampleInput.csv', index=False)\n",
    "```"
   ]
  },
  {
   "cell_type": "code",
   "execution_count": null,
   "id": "2679aace-9ad5-4893-8c1e-c8c44ee33de0",
   "metadata": {},
   "outputs": [],
   "source": [
    "import numpy as np                    # for numerical calculations\n",
    "import matplotlib\n",
    "import matplotlib.pyplot as plt       # for plotting\n",
    "from scipy.optimize import curve_fit  # for fitting\n",
    "import pandas as pd                   # for csv, xlsx import"
   ]
  },
  {
   "cell_type": "code",
   "execution_count": null,
   "id": "bb188f1f-9ce1-4dbd-b83a-a366f84624ac",
   "metadata": {},
   "outputs": [],
   "source": [
    "import numpy as np                    \n",
    "import matplotlib\n",
    "import scipy\n",
    "import pandas as pd\n",
    "print('numpy version: {}'.format(np.version.version))\n",
    "print('matplotlib: {}'.format(matplotlib.__version__))\n",
    "print('scipy: {}'.format(scipy.__version__))\n",
    "print('pandas: {}'.format(pd.__version__))"
   ]
  },
  {
   "cell_type": "code",
   "execution_count": null,
   "id": "e21d2512-d810-4acb-8ed9-bfe6ec185ea7",
   "metadata": {},
   "outputs": [],
   "source": [
    "# Function to fit: a * sin(b * x)\n",
    "def fit_function(x, a, b, c):\n",
    "    return a * np.sin(b * x + c)\n",
    "\n",
    "# Read data from CSV file\n",
    "data = pd.read_csv('sampleInput.csv')  # Make sure the CSV file has columns 'x' and 'y'\n",
    "x_data = data['x'].values\n",
    "y_data = data['y'].values\n",
    "\n",
    "# Provide initial guesses for the parameters a and b\n",
    "initial_guesses = [0.25, 2.5, 0.75]  # initial guesses for a, b, and c\n",
    "\n",
    "# Fit the data to the function\n",
    "params, covariance = curve_fit(fit_function, x_data, y_data, p0=initial_guesses)\n",
    "\n",
    "# Extract the fitted parameters a and b\n",
    "a_fit, b_fit, c_fit = params\n",
    "\n",
    "# Generate the fitted curve\n",
    "x_fit = np.linspace(min(x_data), max(x_data), 1000)\n",
    "y_fit = fit_function(x_fit, *params)\n",
    "\n",
    "# Plot the original data and the fitted curve\n",
    "# see https://stackoverflow.com/questions/43248336/matplotlib-tick-labels-are-inconsist-with-font-setting-latex-text-example\n",
    "plt.rc('text.latex', preamble=r'\\usepackage[cm]{sfmath}') # hack for better axis labels\n",
    "\n",
    "fig = plt.figure(figsize=(11.69,8.27), dpi=50) # A4 Landscape  - maybe also: facecolor=(0.975, 0.975, 0.975),\n",
    "\n",
    "axes = plt.axes()\n",
    "axes.set_position([0.1, 0.1, 0.85, 0.85]) # [left, bottom, width, height]\n",
    "\n",
    "axes.set_ylabel(\"distance [m]\")\n",
    "axes.set_xlabel(\"$t$ [s]\")\n",
    "\n",
    "axes.set_xlim([0, 2.25 * np.pi]) # sets the range of x-axes\n",
    "axes.set_ylim([-0.3, 0.4])    # sets the range of y-axes\n",
    "axes.set_yticks(np.arange(-0.25, 0.25, 0.1), minor=True) # minor ticks equally spaced\n",
    "axes.set_yticks(np.arange(-0.4, 0.45, 0.1), minor=False) # mayor ticks equally spaced\n",
    "\n",
    "axes.set_xticks(np.linspace(0, 2 * np.pi, 5))  # 5 mayor ticks between 0 and 2π\n",
    "axes.set_xticklabels([r'$0$', r'$\\frac{\\pi}{2}$', r'$\\pi$', r'$\\frac{3\\pi}{2}$', r'$2\\pi$'])\n",
    "axes.set_xticks(np.linspace(0, 2 * np.pi, 9), minor=True)  # 9 minor ticks between 0 and 2π\n",
    "\n",
    "axes.scatter(x_data, y_data, label='Data', color = IC.CRCcolor(\"CRC1415A00\"), edgecolors='black')\n",
    "\n",
    "axes.plot(x_fit, y_fit, label=f'Fitted curve: a={a_fit:.2f}, b={b_fit:.2f}, c={c_fit:.2f}', color = IC.CRCcolor(\"CRC1415Z00\"))\n",
    "axes.legend(loc = 'upper left') # default: loc='best', but maybe use 'upper left', 'upper right', 'lower left', 'lower right, 'upper center',\n",
    "              # 'lower center', 'center left', 'center right' , or 'center'\n",
    "\n",
    "plt.show()\n",
    "\n",
    "# saving to files\n",
    "# save figure as png and pdf\n",
    "fig.savefig(\"plot_csv.png\",  dpi = 100) #300)\n",
    "fig.savefig(\"plot_csv.pdf\")"
   ]
  },
  {
   "cell_type": "markdown",
   "id": "c9a6e36d-6a4a-4916-86b8-2cf54eb84e03",
   "metadata": {},
   "source": [
    "### Practical exercise: Python program that reads data from a XLSX file, fits the data using the function $y_{\\textrm{fit}}(x) = a \\cdot \\sin(b \\cdot x + c)$, and then plots the result as above."
   ]
  },
  {
   "cell_type": "code",
   "execution_count": null,
   "id": "79e57682-b9dc-41f2-82e7-ed383eb69489",
   "metadata": {},
   "outputs": [],
   "source": [
    "# Function to fit: a * sin(b * x)\n",
    "def fit_function(x, a, b, c):\n",
    "    return a * np.sin(b * x + c)\n",
    "\n",
    "# Step 1: Read the Excel file\n",
    "df = pd.read_excel('sampleInput.xlsx')\n",
    "\n",
    "# Step 2: Display the first few rows to understand the structure of the data\n",
    "print(df.head())\n",
    "\n",
    "# Step 3: Split the data to useful objects\n",
    "# Assuming the Excel file has columns 'x' and 'y'\n",
    "# You can change these column names based on your file's structure\n",
    "x_data = df['x'].values\n",
    "y_data = df['y'].values\n",
    "\n",
    "# Provide initial guesses for the parameters a and b\n",
    "initial_guesses = [0.25, 2.5, 0.75]  # initial guesses for a, b, and c\n",
    "\n",
    "# Fit the data to the function\n",
    "params, covariance = curve_fit(fit_function, x_data, y_data, p0=initial_guesses)\n",
    "\n",
    "# Extract the fitted parameters a and b\n",
    "a_fit, b_fit, c_fit = params\n",
    "\n",
    "# Generate the fitted curve\n",
    "x_fit = np.linspace(min(x_data), max(x_data), 1000)\n",
    "y_fit = fit_function(x_fit, *params)\n",
    "\n",
    "# Plot the original data and the fitted curve\n",
    "# see https://stackoverflow.com/questions/43248336/matplotlib-tick-labels-are-inconsist-with-font-setting-latex-text-example\n",
    "plt.rc('text.latex', preamble=r'\\usepackage[cm]{sfmath}') # hack for better axis labels\n",
    "\n",
    "fig = plt.figure(figsize=(11.69,8.27), dpi=50) # A4 Landscape  - maybe also: facecolor=(0.975, 0.975, 0.975),\n",
    "\n",
    "axes = plt.axes()\n",
    "axes.set_position([0.1, 0.1, 0.85, 0.85]) # [left, bottom, width, height]\n",
    "\n",
    "axes.set_ylabel(\"distance [m]\")\n",
    "axes.set_xlabel(\"$t$ [s]\")\n",
    "\n",
    "axes.set_xlim([0, 2.25 * np.pi]) # sets the range of x-axes\n",
    "axes.set_ylim([-0.3, 0.4])    # sets the range of y-axes\n",
    "axes.set_yticks(np.arange(-0.25, 0.25, 0.1), minor=True) # minor ticks equally spaced\n",
    "axes.set_yticks(np.arange(-0.4, 0.45, 0.1), minor=False) # mayor ticks equally spaced\n",
    "\n",
    "axes.set_xticks(np.linspace(0, 2 * np.pi, 5))  # 5 mayor ticks between 0 and 2π\n",
    "axes.set_xticklabels([r'$0$', r'$\\frac{\\pi}{2}$', r'$\\pi$', r'$\\frac{3\\pi}{2}$', r'$2\\pi$'])\n",
    "axes.set_xticks(np.linspace(0, 2 * np.pi, 9), minor=True)  # 9 minor ticks between 0 and 2π\n",
    "\n",
    "axes.scatter(x_data, y_data, label='Data', color = IC.CRCcolor(\"CRC1415A00\"), edgecolors='black')\n",
    "\n",
    "axes.plot(x_fit, y_fit, label=f'Fitted curve: a={a_fit:.2f}, b={b_fit:.2f}, c={c_fit:.2f}', color = IC.CRCcolor(\"CRC1415Z00\"))\n",
    "axes.legend(loc = 'upper left') # default: loc='best', but maybe use 'upper left', 'upper right', 'lower left', 'lower right, 'upper center',\n",
    "              # 'lower center', 'center left', 'center right' , or 'center'\n",
    "\n",
    "plt.show()\n",
    "\n",
    "# saving to files\n",
    "# save figure as png and pdf\n",
    "fig.savefig(\"plot_xlsx.png\",  dpi = 100) #300)\n",
    "fig.savefig(\"plot_xlsx.pdf\")"
   ]
  },
  {
   "cell_type": "code",
   "execution_count": null,
   "id": "29c0f6f9-d081-401a-8d29-b0855e468c53",
   "metadata": {},
   "outputs": [],
   "source": []
  },
  {
   "cell_type": "code",
   "execution_count": null,
   "id": "eebee048-d729-488b-abab-c048f291a13e",
   "metadata": {},
   "outputs": [],
   "source": [
    "# END OF THE NOTEBOOK"
   ]
  }
 ],
 "metadata": {
  "kernelspec": {
   "display_name": "Python 3 (ipykernel)",
   "language": "python",
   "name": "python3"
  },
  "language_info": {
   "codemirror_mode": {
    "name": "ipython",
    "version": 3
   },
   "file_extension": ".py",
   "mimetype": "text/x-python",
   "name": "python",
   "nbconvert_exporter": "python",
   "pygments_lexer": "ipython3",
   "version": "3.10.10"
  }
 },
 "nbformat": 4,
 "nbformat_minor": 5
}
